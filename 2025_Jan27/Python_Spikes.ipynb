{
 "cells": [
  {
   "cell_type": "code",
   "execution_count": 15,
   "metadata": {},
   "outputs": [],
   "source": [
    "import scipy.io\n",
    "import numpy as np\n",
    "from sklearn.model_selection import train_test_split\n",
    "from sklearn.ensemble import RandomForestClassifier\n",
    "from sklearn.metrics import accuracy_score\n"
   ]
  },
  {
   "cell_type": "code",
   "execution_count": 47,
   "metadata": {},
   "outputs": [
    {
     "name": "stdout",
     "output_type": "stream",
     "text": [
      "dict_keys(['__header__', '__version__', '__globals__', 'spikes2_count'])\n"
     ]
    }
   ],
   "source": [
    "# Load the MATLAB files and flatten into spikes list\n",
    "b_data = scipy.io.loadmat('bcounts.mat')\n",
    "c_data = scipy.io.loadmat('ccounts.mat')\n",
    "print(c_data.keys())\n",
    "\n",
    "#b data\n",
    "bb = b_data['spikes_count']\n",
    "b_spikes = bb.flatten().tolist()\n",
    "\n",
    "#c data\n",
    "cc = c_data['spikes_count']\n",
    "c_spikes = cc.flatten().tolist()\n",
    "\n",
    "#d data\n",
    "\n"
   ]
  },
  {
   "cell_type": "code",
   "execution_count": 51,
   "metadata": {},
   "outputs": [
    {
     "name": "stdout",
     "output_type": "stream",
     "text": [
      "Loaded bcounts.mat, 582 spikes\n",
      "Loaded ccounts.mat, 863 spikes\n",
      "Loaded dcounts.mat, 863 spikes\n",
      "Loaded gcounts.mat, 760 spikes\n",
      "Example b_spikes: [9, 8, 8, 5, 9, 10, 9, 8, 10, 6]\n"
     ]
    }
   ],
   "source": [
    "import scipy.io\n",
    "\n",
    "# Define syllables to process\n",
    "syllables = ['b', 'c', 'd', 'g']\n",
    "spike_counts = {}  # Dictionary to store results\n",
    "\n",
    "# Loop through each syllable, load the .mat file, and flatten spike counts\n",
    "for syllable in syllables:\n",
    "    filename = f'{syllable}counts.mat'  # Construct filename dynamically\n",
    "    try:\n",
    "        data = scipy.io.loadmat(filename)  # Load .mat file\n",
    "        spikes = data['spikes_count'].flatten().tolist()  # Extract and flatten\n",
    "        spike_counts[syllable] = spikes  # Store in dictionary\n",
    "        print(f\"Loaded {filename}, {len(spikes)} spikes\")\n",
    "    except FileNotFoundError:\n",
    "        print(f\"File not found: {filename}\")\n",
    "    except KeyError:\n",
    "        print(f\"Key 'spikes_count' not found in {filename}\")\n",
    "\n",
    "# Example: Accessing b_spikes\n",
    "b_spikes = spike_counts.get('b', [])\n",
    "c_spikes = spike_counts.get('c', [])\n",
    "d_spikes = spike_counts.get('d', [])\n",
    "g_spikes = spike_counts.get('g', [])\n",
    "\n",
    "print(\"Example b_spikes:\", b_spikes[:10])  # Print first 10 values as a preview\n"
   ]
  },
  {
   "cell_type": "markdown",
   "metadata": {},
   "source": [
    "Comparing syllable b and g "
   ]
  },
  {
   "cell_type": "code",
   "execution_count": 56,
   "metadata": {},
   "outputs": [
    {
     "name": "stdout",
     "output_type": "stream",
     "text": [
      "Model Accuracy: 0.99\n",
      "Prediction for 5 spikes: b\n",
      "Prediction for 20 spikes: b\n"
     ]
    }
   ],
   "source": [
    "X = np.array(b_spikes + g_spikes).reshape(-1, 1)  # Convert to 2D array\n",
    "y = np.array(['b'] * len(b_spikes) + ['g'] * len(g_spikes))  # Labels\n",
    "\n",
    "X_train, X_test, y_train, y_test = train_test_split(X, y, test_size=0.2, random_state=200)\n",
    "\n",
    "# Train a Random Forest Classifier\n",
    "clf = RandomForestClassifier(n_estimators=100, random_state=50, class_weight= 'balanced')\n",
    "clf.fit(X_train, y_train)\n",
    "\n",
    "# Predict on test set\n",
    "y_pred = clf.predict(X_test)\n",
    "\n",
    "# Evaluate accuracy\n",
    "accuracy = accuracy_score(y_test, y_pred)\n",
    "print(f\"Model Accuracy: {accuracy:.2f}\")\n",
    "\n",
    "# Predict for a given spike count (e.g., 5)\n",
    "spike_examples = np.array([[5], [20]])  # Convert to 2D array\n",
    "predictions = clf.predict(spike_examples)\n",
    "\n",
    "# Display predictions\n",
    "for spike, pred in zip(spike_examples.flatten(), predictions):\n",
    "    print(f\"Prediction for {spike} spikes: {pred}\")\n"
   ]
  },
  {
   "cell_type": "markdown",
   "metadata": {},
   "source": [
    "Chat gpt code extraploated from previous code chunk to calculate all the possible combos"
   ]
  },
  {
   "cell_type": "code",
   "execution_count": 62,
   "metadata": {},
   "outputs": [
    {
     "name": "stdout",
     "output_type": "stream",
     "text": [
      "Model Accuracy for b vs. c: 0.71\n",
      "Model Accuracy for b vs. d: 0.79\n",
      "Model Accuracy for b vs. g: 0.99\n",
      "Model Accuracy for c vs. d: 0.70\n",
      "Model Accuracy for c vs. g: 1.00\n",
      "Model Accuracy for d vs. g: 0.88\n",
      "\n",
      "Final Accuracy Results:\n",
      "b vs. c: 0.71\n",
      "b vs. d: 0.79\n",
      "b vs. g: 0.99\n",
      "c vs. d: 0.70\n",
      "c vs. g: 1.00\n",
      "d vs. g: 0.88\n"
     ]
    }
   ],
   "source": [
    "import itertools\n",
    "\n",
    "accuracies = []\n",
    "\n",
    "for syll1, syll2 in itertools.combinations(syllables, 2):\n",
    "    if syll1 in spike_counts and syll2 in spike_counts:\n",
    "        # Prepare dataset\n",
    "        X = np.array(spike_counts[syll1] + spike_counts[syll2]).reshape(-1, 1)\n",
    "        y = np.array([syll1] * len(spike_counts[syll1]) + [syll2] * len(spike_counts[syll2]))\n",
    "\n",
    "        # Train/test split\n",
    "        X_train, X_test, y_train, y_test = train_test_split(X, y, test_size=0.2, random_state=200)\n",
    "\n",
    "        # Train Random Forest model\n",
    "        clf = RandomForestClassifier(n_estimators=100, random_state=50, class_weight='balanced')\n",
    "        clf.fit(X_train, y_train)\n",
    "\n",
    "        # Predict and evaluate accuracy\n",
    "        y_pred = clf.predict(X_test)\n",
    "        accuracy = accuracy_score(y_test, y_pred)\n",
    "        accuracies.append((syll1, syll2, accuracy))\n",
    "        \n",
    "        print(f\"Model Accuracy for {syll1} vs. {syll2}: {accuracy:.2f}\")\n",
    "\n",
    "# Convert accuracies to NumPy array\n",
    "accuracy_array = np.array(accuracies, dtype=object)\n",
    "\n",
    "# Display final results\n",
    "print(\"\\nFinal Accuracy Results:\")\n",
    "for syll1, syll2, acc in accuracy_array:\n",
    "    print(f\"{syll1} vs. {syll2}: {acc:.2f}\")\n"
   ]
  },
  {
   "cell_type": "code",
   "execution_count": 64,
   "metadata": {},
   "outputs": [
    {
     "data": {
      "text/plain": [
       "array([['b', 'c', 0.71280276816609],\n",
       "       ['b', 'd', 0.7889273356401384],\n",
       "       ['b', 'g', 0.9888475836431226],\n",
       "       ['c', 'd', 0.7023121387283237],\n",
       "       ['c', 'g', 0.9969230769230769],\n",
       "       ['d', 'g', 0.8830769230769231]], dtype=object)"
      ]
     },
     "execution_count": 64,
     "metadata": {},
     "output_type": "execute_result"
    }
   ],
   "source": [
    "accuracy_array\n"
   ]
  },
  {
   "cell_type": "code",
   "execution_count": 66,
   "metadata": {},
   "outputs": [
    {
     "data": {
      "image/png": "[encoded data removed]",
      "text/plain": [
       "<Figure size 800x500 with 1 Axes>"
      ]
     },
     "metadata": {},
     "output_type": "display_data"
    }
   ],
   "source": [
    "import matplotlib.pyplot as plt\n",
    "\n",
    "labels = [f\"{s1} vs. {s2}\" for s1, s2, _ in accuracy_array]\n",
    "accuracies = [acc for _, _, acc in accuracy_array]\n",
    "\n",
    "# Create histogram\n",
    "plt.figure(figsize=(8, 5))\n",
    "plt.bar(labels, accuracies)\n",
    "\n",
    "# Labeling\n",
    "plt.xlabel(\"Syllable Comparisons\")\n",
    "plt.ylabel(\"Accuracy\")\n",
    "plt.title(\"Random Forest Classification Accuracies\")\n",
    "plt.ylim(0, 1)  # Accuracy range is between 0 and 1\n",
    "plt.grid(axis='y', linestyle='--', alpha=0.7)\n",
    "\n",
    "# Show plot\n",
    "plt.show()\n"
   ]
  }
 ],
 "metadata": {
  "kernelspec": {
   "display_name": "base",
   "language": "python",
   "name": "python3"
  },
  "language_info": {
   "codemirror_mode": {
    "name": "ipython",
    "version": 3
   },
   "file_extension": ".py",
   "mimetype": "text/x-python",
   "name": "python",
   "nbconvert_exporter": "python",
   "pygments_lexer": "ipython3",
   "version": "3.12.7"
  }
 },
 "nbformat": 4,
 "nbformat_minor": 2
}
